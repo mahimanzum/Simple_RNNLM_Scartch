{
 "cells": [
  {
   "cell_type": "code",
   "execution_count": null,
   "metadata": {
    "colab": {},
    "colab_type": "code",
    "executionInfo": {
     "elapsed": 946,
     "status": "ok",
     "timestamp": 1598892443321,
     "user": {
      "displayName": "Abdullah Al Ishtiaq",
      "photoUrl": "https://lh3.googleusercontent.com/a-/AOh14GhZundmmuUjmGGI_whu8qTqzvNGyw3z-3K5cF00jA=s64",
      "userId": "09873799125440584035"
     },
     "user_tz": -360
    },
    "id": "lSHLNRx_TcWh"
   },
   "outputs": [],
   "source": [
    "import os\n",
    "import json\n"
   ]
  },
  {
   "cell_type": "code",
   "execution_count": null,
   "metadata": {
    "colab": {
     "base_uri": "https://localhost:8080/",
     "height": 119
    },
    "colab_type": "code",
    "executionInfo": {
     "elapsed": 3012,
     "status": "ok",
     "timestamp": 1598892445392,
     "user": {
      "displayName": "Abdullah Al Ishtiaq",
      "photoUrl": "https://lh3.googleusercontent.com/a-/AOh14GhZundmmuUjmGGI_whu8qTqzvNGyw3z-3K5cF00jA=s64",
      "userId": "09873799125440584035"
     },
     "user_tz": -360
    },
    "id": "oL0SAvipZki0",
    "outputId": "09336910-eca2-4489-ea0e-842c2c794754"
   },
   "outputs": [],
   "source": [
    "# !git clone https://github.com/moinnadeem/StereoSet.git"
   ]
  },
  {
   "cell_type": "markdown",
   "metadata": {
    "colab_type": "text",
    "id": "hlkIKAAiZy8D"
   },
   "source": [
    "# Take Input"
   ]
  },
  {
   "cell_type": "code",
   "execution_count": null,
   "metadata": {
    "colab": {},
    "colab_type": "code",
    "executionInfo": {
     "elapsed": 3702,
     "status": "ok",
     "timestamp": 1598892446085,
     "user": {
      "displayName": "Abdullah Al Ishtiaq",
      "photoUrl": "https://lh3.googleusercontent.com/a-/AOh14GhZundmmuUjmGGI_whu8qTqzvNGyw3z-3K5cF00jA=s64",
      "userId": "09873799125440584035"
     },
     "user_tz": -360
    },
    "id": "28hwwcfiZsKz"
   },
   "outputs": [],
   "source": [
    "INPUT_FILE_NAME = \"StereoSet/data/dev.json\"\n",
    "in_file = open(INPUT_FILE_NAME)\n",
    "in_data = json.load(in_file)\n",
    "in_file.close()"
   ]
  },
  {
   "cell_type": "code",
   "execution_count": null,
   "metadata": {
    "colab": {},
    "colab_type": "code",
    "executionInfo": {
     "elapsed": 3702,
     "status": "ok",
     "timestamp": 1598892446087,
     "user": {
      "displayName": "Abdullah Al Ishtiaq",
      "photoUrl": "https://lh3.googleusercontent.com/a-/AOh14GhZundmmuUjmGGI_whu8qTqzvNGyw3z-3K5cF00jA=s64",
      "userId": "09873799125440584035"
     },
     "user_tz": -360
    },
    "id": "ganmZn95aR_K"
   },
   "outputs": [],
   "source": [
    "OUT_FOLDER = \"data/Stereoset_Gender_Data/\"\n",
    "if not os.path.exists(OUT_FOLDER):\n",
    "    os.mkdir(OUT_FOLDER)"
   ]
  },
  {
   "cell_type": "markdown",
   "metadata": {
    "colab_type": "text",
    "id": "gE21wb-EZ2RD"
   },
   "source": [
    "# Explore"
   ]
  },
  {
   "cell_type": "code",
   "execution_count": null,
   "metadata": {
    "colab": {
     "base_uri": "https://localhost:8080/",
     "height": 51
    },
    "colab_type": "code",
    "executionInfo": {
     "elapsed": 3702,
     "status": "ok",
     "timestamp": 1598892446090,
     "user": {
      "displayName": "Abdullah Al Ishtiaq",
      "photoUrl": "https://lh3.googleusercontent.com/a-/AOh14GhZundmmuUjmGGI_whu8qTqzvNGyw3z-3K5cF00jA=s64",
      "userId": "09873799125440584035"
     },
     "user_tz": -360
    },
    "id": "E4KTOIEfZseL",
    "outputId": "b4ea62e7-f4ad-44a5-8406-bef7ba28f4f9"
   },
   "outputs": [],
   "source": [
    "print(type(in_data))\n",
    "print(in_data.keys())"
   ]
  },
  {
   "cell_type": "code",
   "execution_count": null,
   "metadata": {
    "colab": {
     "base_uri": "https://localhost:8080/",
     "height": 51
    },
    "colab_type": "code",
    "executionInfo": {
     "elapsed": 3700,
     "status": "ok",
     "timestamp": 1598892446091,
     "user": {
      "displayName": "Abdullah Al Ishtiaq",
      "photoUrl": "https://lh3.googleusercontent.com/a-/AOh14GhZundmmuUjmGGI_whu8qTqzvNGyw3z-3K5cF00jA=s64",
      "userId": "09873799125440584035"
     },
     "user_tz": -360
    },
    "id": "bfi3NJsJZsgS",
    "outputId": "b6314a8a-106a-47a0-b162-c2bdcf1e01e2"
   },
   "outputs": [],
   "source": [
    "print(type(in_data['data']))\n",
    "print(in_data['data'].keys())"
   ]
  },
  {
   "cell_type": "code",
   "execution_count": null,
   "metadata": {
    "colab": {
     "base_uri": "https://localhost:8080/",
     "height": 51
    },
    "colab_type": "code",
    "executionInfo": {
     "elapsed": 3699,
     "status": "ok",
     "timestamp": 1598892446092,
     "user": {
      "displayName": "Abdullah Al Ishtiaq",
      "photoUrl": "https://lh3.googleusercontent.com/a-/AOh14GhZundmmuUjmGGI_whu8qTqzvNGyw3z-3K5cF00jA=s64",
      "userId": "09873799125440584035"
     },
     "user_tz": -360
    },
    "id": "uLpxfjMsZsi0",
    "outputId": "8caf510a-7f7f-4afb-ecec-5ecf1c45a3a2"
   },
   "outputs": [],
   "source": [
    "print(type(in_data['data']['intersentence']))\n",
    "print(len(in_data['data']['intersentence']))\n"
   ]
  },
  {
   "cell_type": "code",
   "execution_count": null,
   "metadata": {
    "colab": {
     "base_uri": "https://localhost:8080/",
     "height": 51
    },
    "colab_type": "code",
    "executionInfo": {
     "elapsed": 3696,
     "status": "ok",
     "timestamp": 1598892446093,
     "user": {
      "displayName": "Abdullah Al Ishtiaq",
      "photoUrl": "https://lh3.googleusercontent.com/a-/AOh14GhZundmmuUjmGGI_whu8qTqzvNGyw3z-3K5cF00jA=s64",
      "userId": "09873799125440584035"
     },
     "user_tz": -360
    },
    "id": "kvO_RNwEZslD",
    "outputId": "91cd9283-d150-4544-8ecf-5422ff75fc67"
   },
   "outputs": [],
   "source": [
    "print(type(in_data['data']['intersentence'][0]))\n",
    "print(in_data['data']['intersentence'][0].keys())"
   ]
  },
  {
   "cell_type": "markdown",
   "metadata": {
    "colab_type": "text",
    "id": "_qDJ0BYfZ5MT"
   },
   "source": [
    "# Extract Gender Data"
   ]
  },
  {
   "cell_type": "code",
   "execution_count": null,
   "metadata": {
    "colab": {},
    "colab_type": "code",
    "executionInfo": {
     "elapsed": 3694,
     "status": "ok",
     "timestamp": 1598892446093,
     "user": {
      "displayName": "Abdullah Al Ishtiaq",
      "photoUrl": "https://lh3.googleusercontent.com/a-/AOh14GhZundmmuUjmGGI_whu8qTqzvNGyw3z-3K5cF00jA=s64",
      "userId": "09873799125440584035"
     },
     "user_tz": -360
    },
    "id": "l0ivDsivZwmM"
   },
   "outputs": [],
   "source": [
    "out_data = {}\n",
    "out_data['version'] = \"1.0-dev-gender\"\n",
    "out_data['data'] = {}\n",
    "out_data['data']['intersentence'] = []\n",
    "out_data['data']['intrasentence'] = []\n"
   ]
  },
  {
   "cell_type": "code",
   "execution_count": null,
   "metadata": {
    "colab": {
     "base_uri": "https://localhost:8080/",
     "height": 34
    },
    "colab_type": "code",
    "executionInfo": {
     "elapsed": 3693,
     "status": "ok",
     "timestamp": 1598892446094,
     "user": {
      "displayName": "Abdullah Al Ishtiaq",
      "photoUrl": "https://lh3.googleusercontent.com/a-/AOh14GhZundmmuUjmGGI_whu8qTqzvNGyw3z-3K5cF00jA=s64",
      "userId": "09873799125440584035"
     },
     "user_tz": -360
    },
    "id": "thqO-pBHZwoS",
    "outputId": "67126355-6088-4268-89a0-49e9118f0ca6"
   },
   "outputs": [],
   "source": [
    "for sample in in_data['data']['intersentence']:\n",
    "    if sample['bias_type'] == 'gender':\n",
    "        out_data['data']['intersentence'].append(sample)\n",
    "print(len(out_data['data']['intersentence']))"
   ]
  },
  {
   "cell_type": "code",
   "execution_count": null,
   "metadata": {
    "colab": {
     "base_uri": "https://localhost:8080/",
     "height": 34
    },
    "colab_type": "code",
    "executionInfo": {
     "elapsed": 3692,
     "status": "ok",
     "timestamp": 1598892446095,
     "user": {
      "displayName": "Abdullah Al Ishtiaq",
      "photoUrl": "https://lh3.googleusercontent.com/a-/AOh14GhZundmmuUjmGGI_whu8qTqzvNGyw3z-3K5cF00jA=s64",
      "userId": "09873799125440584035"
     },
     "user_tz": -360
    },
    "id": "rToV5ZIQZwqc",
    "outputId": "4606f76a-430c-4f14-83e9-4f7e2e5c6b23"
   },
   "outputs": [],
   "source": [
    "for sample in in_data['data']['intrasentence']:\n",
    "    if sample['bias_type'] == 'gender':\n",
    "        out_data['data']['intrasentence'].append(sample)\n",
    "print(len(out_data['data']['intrasentence']))"
   ]
  },
  {
   "cell_type": "code",
   "execution_count": null,
   "metadata": {
    "colab": {},
    "colab_type": "code",
    "executionInfo": {
     "elapsed": 3690,
     "status": "ok",
     "timestamp": 1598892446095,
     "user": {
      "displayName": "Abdullah Al Ishtiaq",
      "photoUrl": "https://lh3.googleusercontent.com/a-/AOh14GhZundmmuUjmGGI_whu8qTqzvNGyw3z-3K5cF00jA=s64",
      "userId": "09873799125440584035"
     },
     "user_tz": -360
    },
    "id": "qFiZ8RcxZwtC"
   },
   "outputs": [],
   "source": [
    "with open(OUT_FOLDER+\"StereoSet-dev-gender.json\", 'w') as out_file:\n",
    "    json.dump(out_data, out_file, indent=2)\n",
    "    out_file.close()"
   ]
  },
  {
   "cell_type": "code",
   "execution_count": null,
   "metadata": {
    "colab": {},
    "colab_type": "code",
    "executionInfo": {
     "elapsed": 3689,
     "status": "ok",
     "timestamp": 1598892446096,
     "user": {
      "displayName": "Abdullah Al Ishtiaq",
      "photoUrl": "https://lh3.googleusercontent.com/a-/AOh14GhZundmmuUjmGGI_whu8qTqzvNGyw3z-3K5cF00jA=s64",
      "userId": "09873799125440584035"
     },
     "user_tz": -360
    },
    "id": "NGKkLwGvZwvC"
   },
   "outputs": [],
   "source": []
  },
  {
   "cell_type": "code",
   "execution_count": null,
   "metadata": {
    "colab": {},
    "colab_type": "code",
    "executionInfo": {
     "elapsed": 3685,
     "status": "ok",
     "timestamp": 1598892446096,
     "user": {
      "displayName": "Abdullah Al Ishtiaq",
      "photoUrl": "https://lh3.googleusercontent.com/a-/AOh14GhZundmmuUjmGGI_whu8qTqzvNGyw3z-3K5cF00jA=s64",
      "userId": "09873799125440584035"
     },
     "user_tz": -360
    },
    "id": "SgBzq--oZwxy"
   },
   "outputs": [],
   "source": []
  },
  {
   "cell_type": "markdown",
   "metadata": {
    "colab_type": "text",
    "id": "OG_KXSetaEBr"
   },
   "source": [
    "# Preprocess"
   ]
  },
  {
   "cell_type": "code",
   "execution_count": null,
   "metadata": {
    "colab": {},
    "colab_type": "code",
    "executionInfo": {
     "elapsed": 3675,
     "status": "ok",
     "timestamp": 1598892446097,
     "user": {
      "displayName": "Abdullah Al Ishtiaq",
      "photoUrl": "https://lh3.googleusercontent.com/a-/AOh14GhZundmmuUjmGGI_whu8qTqzvNGyw3z-3K5cF00jA=s64",
      "userId": "09873799125440584035"
     },
     "user_tz": -360
    },
    "id": "QzuV-pAqTfwm"
   },
   "outputs": [],
   "source": [
    "in_file = open(OUT_FOLDER+\"StereoSet-dev-gender.json\", 'r')\n",
    "in_data = json.load(in_file)\n",
    "in_file.close()"
   ]
  },
  {
   "cell_type": "code",
   "execution_count": null,
   "metadata": {
    "colab": {
     "base_uri": "https://localhost:8080/",
     "height": 34
    },
    "colab_type": "code",
    "executionInfo": {
     "elapsed": 3667,
     "status": "ok",
     "timestamp": 1598892446097,
     "user": {
      "displayName": "Abdullah Al Ishtiaq",
      "photoUrl": "https://lh3.googleusercontent.com/a-/AOh14GhZundmmuUjmGGI_whu8qTqzvNGyw3z-3K5cF00jA=s64",
      "userId": "09873799125440584035"
     },
     "user_tz": -360
    },
    "id": "xGr92SwCUNFU",
    "outputId": "e3d92f9f-b893-4729-d6fc-33fa544e0c62"
   },
   "outputs": [],
   "source": [
    "intersentence_list = in_data[\"data\"][\"intersentence\"]\n",
    "print(len(intersentence_list))\n"
   ]
  },
  {
   "cell_type": "code",
   "execution_count": null,
   "metadata": {},
   "outputs": [],
   "source": [
    "male_pronouns   = [\"he\",  \"him\", \"his\", \"his\", \"himself\"]\n",
    "female_pronouns = [\"she\", \"her\", \"her\", \"hers\", \"herself\"]\n",
    "merged_pronouns = [\"he/she\", \"him/her\", \"his/her\", \"his/hers\", \"himself/herself\"]\n",
    "\n",
    "def encrypt_sentence(in_text):\n",
    "    tokens = in_text.split(' ')\n",
    "    \n",
    "    for idx in range(len(tokens)):\n",
    "        for j in range(len(merged_pronouns)):\n",
    "            if tokens[idx].strip().lower() == male_pronouns[j] or tokens[idx].strip().lower() == female_pronouns[j]:\n",
    "                tokens[idx] = merged_pronouns[j]\n",
    "                break\n",
    "    \n",
    "    return ' '.join(tokens)\n",
    "    "
   ]
  },
  {
   "cell_type": "code",
   "execution_count": null,
   "metadata": {
    "colab": {},
    "colab_type": "code",
    "executionInfo": {
     "elapsed": 3659,
     "status": "ok",
     "timestamp": 1598892446098,
     "user": {
      "displayName": "Abdullah Al Ishtiaq",
      "photoUrl": "https://lh3.googleusercontent.com/a-/AOh14GhZundmmuUjmGGI_whu8qTqzvNGyw3z-3K5cF00jA=s64",
      "userId": "09873799125440584035"
     },
     "user_tz": -360
    },
    "id": "IIp07_YCTvUR"
   },
   "outputs": [],
   "source": [
    "id_file = open(OUT_FOLDER+\"ids.txt\", 'w')\n",
    "tokenized_file = open(OUT_FOLDER+\"sentences_tokenized.txt\", 'w')\n",
    "encrypted_file = open(OUT_FOLDER+\"sentences_encrypted.txt\", 'w')\n",
    "\n",
    "for entry_1 in intersentence_list:\n",
    "    second_list = entry_1['sentences']\n",
    "\n",
    "    for entry_2 in second_list:\n",
    "        id_file.write(entry_2['id']+\"\\n\")\n",
    "        tokenized_file.write(entry_1['context']+\" \"+entry_2['sentence']+'\\n')\n",
    "        encrypted_file.write(encrypt_sentence(entry_1['context']+\" \"+entry_2['sentence'])+'\\n')\n",
    "\n",
    "id_file.close()\n",
    "tokenized_file.close()\n",
    "encrypted_file.close()"
   ]
  },
  {
   "cell_type": "code",
   "execution_count": null,
   "metadata": {
    "colab": {},
    "colab_type": "code",
    "executionInfo": {
     "elapsed": 3653,
     "status": "ok",
     "timestamp": 1598892446099,
     "user": {
      "displayName": "Abdullah Al Ishtiaq",
      "photoUrl": "https://lh3.googleusercontent.com/a-/AOh14GhZundmmuUjmGGI_whu8qTqzvNGyw3z-3K5cF00jA=s64",
      "userId": "09873799125440584035"
     },
     "user_tz": -360
    },
    "id": "l39B2RyoU6Td"
   },
   "outputs": [],
   "source": [
    "in_data[\"data\"]['intrasentence'] = []"
   ]
  },
  {
   "cell_type": "code",
   "execution_count": null,
   "metadata": {
    "colab": {},
    "colab_type": "code",
    "executionInfo": {
     "elapsed": 3647,
     "status": "ok",
     "timestamp": 1598892446099,
     "user": {
      "displayName": "Abdullah Al Ishtiaq",
      "photoUrl": "https://lh3.googleusercontent.com/a-/AOh14GhZundmmuUjmGGI_whu8qTqzvNGyw3z-3K5cF00jA=s64",
      "userId": "09873799125440584035"
     },
     "user_tz": -360
    },
    "id": "_6PbsQmeVKlr"
   },
   "outputs": [],
   "source": [
    "with open(OUT_FOLDER+'stereoset-dev-gender-intersentence.json', 'w') as outfile:\n",
    "    json.dump(in_data, outfile, indent = 2)\n",
    "    outfile.close()"
   ]
  },
  {
   "cell_type": "code",
   "execution_count": null,
   "metadata": {
    "colab": {
     "base_uri": "https://localhost:8080/",
     "height": 272
    },
    "colab_type": "code",
    "executionInfo": {
     "elapsed": 1026,
     "status": "ok",
     "timestamp": 1598892482678,
     "user": {
      "displayName": "Abdullah Al Ishtiaq",
      "photoUrl": "https://lh3.googleusercontent.com/a-/AOh14GhZundmmuUjmGGI_whu8qTqzvNGyw3z-3K5cF00jA=s64",
      "userId": "09873799125440584035"
     },
     "user_tz": -360
    },
    "id": "l-wEEYDWViGd",
    "outputId": "7ce6e880-63f2-4f65-cd9e-53614749cb11"
   },
   "outputs": [],
   "source": [
    "!7z a -r Stereoset_Gender_Data.7z Stereoset_Gender_Data/"
   ]
  },
  {
   "cell_type": "code",
   "execution_count": null,
   "metadata": {
    "colab": {},
    "colab_type": "code",
    "id": "wXQNeVFzaxwj"
   },
   "outputs": [],
   "source": []
  }
 ],
 "metadata": {
  "colab": {
   "authorship_tag": "ABX9TyMVu3+o32J/8zOg9/mNlyrH",
   "collapsed_sections": [],
   "name": "Preprocess_Stereoset_data.ipynb",
   "provenance": []
  },
  "kernelspec": {
   "display_name": "Python 3",
   "language": "python",
   "name": "python3"
  },
  "language_info": {
   "codemirror_mode": {
    "name": "ipython",
    "version": 3
   },
   "file_extension": ".py",
   "mimetype": "text/x-python",
   "name": "python",
   "nbconvert_exporter": "python",
   "pygments_lexer": "ipython3",
   "version": "3.8.5"
  }
 },
 "nbformat": 4,
 "nbformat_minor": 1
}
